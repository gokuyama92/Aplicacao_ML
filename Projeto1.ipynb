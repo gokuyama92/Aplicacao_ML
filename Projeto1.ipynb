{
  "cells": [
    {
      "cell_type": "markdown",
      "metadata": {
        "id": "view-in-github",
        "colab_type": "text"
      },
      "source": [
        "<a href=\"https://colab.research.google.com/github/gokuyama92/Aplicacao_ML/blob/main/Projeto1.ipynb\" target=\"_parent\"><img src=\"https://colab.research.google.com/assets/colab-badge.svg\" alt=\"Open In Colab\"/></a>"
      ]
    },
    {
      "cell_type": "code",
      "source": [
        "python\n",
        "import os\n",
        "\n",
        "def calcular_soma_imagens_pasta(caminho_pasta):\n",
        "    soma = 0\n",
        "    for nome_arquivo in os.listdir(caminho_pasta):\n",
        "        # Verifica se o nome do arquivo é um número (sem a extensão)\n",
        "        if nome_arquivo.split('.')[0].isdigit():\n",
        "            numero = int(nome_arquivo.split('.')[0])\n",
        "            soma += numero\n",
        "    return soma\n",
        "\n",
        "caminho_pasta_rede = r'C:\\Users\\gokuyama\\Documents\\ML - Embraer'\n",
        "\n",
        "soma_total = calcular_soma_imagens_pasta(caminho_pasta_rede)\n",
        "print(\"A soma dos números das imagens é:\", soma_total)"
      ],
      "metadata": {
        "id": "9_KN2QZ7ysTQ"
      },
      "execution_count": null,
      "outputs": []
    }
  ],
  "metadata": {
    "colab": {
      "name": "Welcome To Colaboratory",
      "toc_visible": true,
      "provenance": [],
      "include_colab_link": true
    },
    "kernelspec": {
      "display_name": "Python 3",
      "name": "python3"
    }
  },
  "nbformat": 4,
  "nbformat_minor": 0
}